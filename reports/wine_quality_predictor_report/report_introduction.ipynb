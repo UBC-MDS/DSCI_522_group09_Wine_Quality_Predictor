{
 "cells": [
  {
   "cell_type": "markdown",
   "id": "f5d6fe7e-8389-40bf-92df-b92245c8f6d7",
   "metadata": {
    "tags": []
   },
   "source": [
    "# Introduction"
   ]
  },
  {
   "cell_type": "markdown",
   "id": "af5383fd-2953-4988-b776-42f838d9b0f3",
   "metadata": {},
   "source": [
    "Wine is a product that is both an extremely popular and highly consumed product, and one that can be very expensive to buy and lucrative to sell. It is also sold at much higher variety levels than almost any other consumer product - in some supermarkets well over 1000 different wines are stocked.[1 https://www.academia.edu/32936140/Consumer_Purchasing_Behaviour_for_Wine_What_We_Know_and_Where_We_are_Going?pop_sutd=true]\n",
    "\n",
    "At the same time, it is also one of the hardest to identify quality ahead of purchase, since you must consume it to decide.  The level of quality a consumer might require can even vary wildly depending on the consumption occasion ([2 https://psycnet.apa.org/record/2001-11394-001]). \n",
    "\n",
    "The quality of wine however is difficult to evaluate objectively and is reliant on some very subjective sensory elements. However we believe that this question can be answered by evaluating which physicochemical features are important in determining the quality score of a wine, the wine manufacturers can refine certain wine-making procedures that may yield wines with \"promising\" properties. \n",
    "\n",
    "We also believe that by using  a quality score that is a human taste output (i.e. each quality score is a median taken over a minimum of 3 sensory assessors) instead of following an objective and rigid standard, which makes wine certification a complicated task, we can better capture the inherent subjectivity of the task. Therefore, attempting to unravel the relationship between physicochemical properties and human taste sensations may also be a direction in the wine certification field [3(Cortez, Cerdeira, Almeida, Matos and Reis, 2009).]"
   ]
  },
  {
   "cell_type": "code",
   "execution_count": null,
   "id": "bc748389-2036-43a6-b93b-98a3c320cf62",
   "metadata": {},
   "outputs": [],
   "source": []
  }
 ],
 "metadata": {
  "kernelspec": {
   "display_name": "Wine Quality Predictor",
   "language": "python",
   "name": "wine_quality_predictor"
  },
  "language_info": {
   "codemirror_mode": {
    "name": "ipython",
    "version": 3
   },
   "file_extension": ".py",
   "mimetype": "text/x-python",
   "name": "python",
   "nbconvert_exporter": "python",
   "pygments_lexer": "ipython3",
   "version": "3.9.5"
  }
 },
 "nbformat": 4,
 "nbformat_minor": 5
}
