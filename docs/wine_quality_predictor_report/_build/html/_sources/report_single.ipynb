{
 "cells": [
  {
   "cell_type": "markdown",
   "id": "a91b982f-bc40-43dc-870e-907a726aa8f3",
   "metadata": {
    "tags": []
   },
   "source": [
    "# Summary"
   ]
  },
  {
   "cell_type": "markdown",
   "id": "57df5581-3a94-44ca-af72-1d098803ba7c",
   "metadata": {},
   "source": [
    "This project is an attempt to build a classification model for predicting wine quality. Our target is multi-class, and since some classes were under-populated, we decided to combine some of them. The final classes are <=4 , 5, 6, 7 and >=8. We evaluated three models for effectiveness in predicting quality scores in red and white wines. Our best classifier was Random Forest Classifier with the test score of 0.685 using Roc_Auc One vs Rest metric. The model has some confusion among the quality scores of 5, 6 and 7 mainly because these classes are of ordinary quality and there are many ordinary quality wines rather than low or high quality wines, and the features do not have well-separated distributions for these features. The test score is not very well but we are confident to share the results since the classification does not include sensitive information. However, it is worth working on feature engineering to extract better features and increase the test score."
   ]
  },
  {
   "cell_type": "markdown",
   "id": "4fdb2e53-4e0f-463d-91ad-2b4da240b343",
   "metadata": {
    "tags": []
   },
   "source": [
    "# Introduction"
   ]
  },
  {
   "cell_type": "markdown",
   "id": "839280e1-5cda-4180-8ebb-9a793a3edcd3",
   "metadata": {},
   "source": [
    "Wine is a product that is both an extremely popular and highly consumed product, and one that can be very expensive to buy and lucrative to sell. It is also sold at much higher variety levels than almost any other consumer product - in some supermarkets well over 1000 different wines are stocked.{cite:ps}`lockshin2003wine`\n",
    "\n",
    "At the same time, it is also one of the hardest to identify quality ahead of purchase, since you must consume it to decide.  The level of quality a consumer might require can even vary wildly depending on the consumption occasion {cite:ps}`quester1998wine`\n",
    "\n",
    "The quality of wine however is difficult to evaluate objectively and is reliant on some very subjective sensory elements. However we believe that this question can be answered by evaluating which physicochemical features are important in determining the quality score of a wine, the wine manufacturers can refine certain wine-making procedures that may yield wines with \"promising\" properties. \n",
    "\n",
    "We also believe that by using  a quality score that is a human taste output (i.e. each quality score is a median taken over a minimum of 3 sensory assessors) instead of following an objective and rigid standard, which makes wine certification a complicated task, we can better capture the inherent subjectivity of the task. Therefore, attempting to unravel the relationship between physicochemical properties and human taste sensations may also be a direction in the wine certification field {cite:ps}`cortez2009modeling`"
   ]
  },
  {
   "cell_type": "markdown",
   "id": "7f2a747f-496e-45cc-9ff2-89637074f33c",
   "metadata": {},
   "source": [
    "# Methods"
   ]
  },
  {
   "cell_type": "markdown",
   "id": "6defd677-d0c7-4277-9258-7df61f696a21",
   "metadata": {},
   "source": [
    "## Data\n",
    "\n",
    "The data sets used in this project were sampled from the red and white _vinho verde_ wines from the North of Portugal, created by Paulo Cortez, António Cerdeira, Fernando Almeida, Telmo Matos, and José Reis {cite:p}`cortez2009modeling`. They were sourced from the UC Irvine Machine Learning Repository{cite:ps}`Dua:2019` and can be found [here](https://archive-beta.ics.uci.edu/ml/datasets/wine+quality). One data set is for the red wine, and the other is for the white wine, and both data sets have the same features and target columns. Each row represents a wine sample with its physicochemical properties such as fixed acidity, volatile acidity, etc. The target is a score (integer) ranging from 0 (very bad) to 10 (excellent) that represents the quality of the wine."
   ]
  },
  {
   "cell_type": "markdown",
   "id": "082cc296-3f70-4d63-afbd-32ead9e6b159",
   "metadata": {},
   "source": [
    "## Analysis\n",
    "\n",
    "Three classification models were attempted and assessed to predict the quality score of a wine: the logistic regression model, the support machine vector with linear kernel (SVM RBF) and the random forest classification model. These candidates were selected based on their common intriguing attributes such as high interpretability and giving handy measurements on feature importance. All numeric features in the original datasets were included and scaled, with the type of wine (_i.e._ white or red) as an added binary feature. \n",
    "\n",
    "To address the problem of class imbalance, we re-categorized the targets classes into <=4, 5, 6, 7 and >=8 so that there are enough training examples in each class. We also chose the scoring metrics to be f-1 macro score, Receiver Operating Characteristic (One vs. Rest) Area under the curve, and Receiver Operating Characteristic (One vs. One) Area under the curve. \n",
    "\n",
    "For each algorithm, the default hyperparameters were used first to train the model, and then the 5-fold cross-validation scores were compared across 3 models. Hyperparameter optimization was carried out on the algorithm with the best cross-validation score. The resulting model with the optimized hyperparameters was the solution to this prediction task. We then assess its performance on test data (_i.e._ unseen examples).\n",
    "\n",
    "The computing language used in this project is Python {cite:p}`perez2011python`. Packages used in EDA and machine learning analysis include: altair {cite:p}`vanderplas2018altair`, docopt {cite:p}`docopt`, scikit-learn {cite:p}`scikit-learn`, matplotlib {cite:p}`Hunter:2007`, numpy {cite:p}`harris2020array`, pandas {cite:p}`mckinney2010data`, pickle {cite:p}`van1995python`."
   ]
  },
  {
   "cell_type": "markdown",
   "id": "1dcfb399-de48-49bf-8ef8-cbab1fa1157c",
   "metadata": {
    "tags": []
   },
   "source": [
    "# Results & Discussion"
   ]
  },
  {
   "cell_type": "markdown",
   "id": "167cbb51-e36e-45e1-b0ac-2bf2f60b0261",
   "metadata": {},
   "source": [
    "In order to classify the wine qualities, we chose to use three different models, including support vector machine with linear kernal, logistic regression, and random forest. We carried out 5-fold cross validation on all three models to find the best performing model based on the cross validation scores. During the EDA stage of the project, we observed class imbalance in our data set (**_Fig. 1_**). Therefore, we decided to use several scoring metrics such as f1 score, Receiver Operating Characteristic - One versus Rest - Area under the curve (ROC-AUC-OVR), and Receiver Operating Characteristic - One versus One - Area under the curve (ROC-AUC-OVO). "
   ]
  },
  {
   "cell_type": "markdown",
   "id": "b8abec72-5f76-40c3-8ccc-a1d6b91d497d",
   "metadata": {
    "tags": []
   },
   "source": [
    "```{figure} ../../results/figure_1_class_imbalance.png\n",
    "\n",
    "\n",
    "Class imbalance in original data.\n",
    "```"
   ]
  },
  {
   "cell_type": "markdown",
   "id": "0717bee1-660a-407c-8266-ffeadbd01ebe",
   "metadata": {},
   "source": [
    "Based on the cross validation results shown in **_Table. 1_**, the random forest model performed the best across three models. Therefore, the random forest model was selected for downstream hyperparamater tuning."
   ]
  },
  {
   "cell_type": "markdown",
   "id": "9cbc0f58-d904-44e7-8b84-5870c07e8c30",
   "metadata": {},
   "source": [
    "**_Table. 1_** Summary on f1 macro scores, ROC AUC (OVR) and ROC AUC (OVO) of dummy classifier, SVC, logistic regression, and random forest with default hyperparameters."
   ]
  },
  {
   "cell_type": "code",
   "execution_count": 1,
   "id": "14ac5a50-14c6-4174-b289-7c97487fb74b",
   "metadata": {
    "tags": [
     "hide-input"
    ]
   },
   "outputs": [
    {
     "data": {
      "text/html": [
       "<div>\n",
       "<style scoped>\n",
       "    .dataframe tbody tr th:only-of-type {\n",
       "        vertical-align: middle;\n",
       "    }\n",
       "\n",
       "    .dataframe tbody tr th {\n",
       "        vertical-align: top;\n",
       "    }\n",
       "\n",
       "    .dataframe thead th {\n",
       "        text-align: right;\n",
       "    }\n",
       "</style>\n",
       "<table border=\"1\" class=\"dataframe\">\n",
       "  <thead>\n",
       "    <tr style=\"text-align: right;\">\n",
       "      <th></th>\n",
       "      <th>fit_time</th>\n",
       "      <th>score_time</th>\n",
       "      <th>test_accuracy</th>\n",
       "      <th>train_accuracy</th>\n",
       "      <th>test_f1_macro</th>\n",
       "      <th>train_f1_macro</th>\n",
       "      <th>test_roc_auc_ovr</th>\n",
       "      <th>train_roc_auc_ovr</th>\n",
       "      <th>test_roc_auc_ovo</th>\n",
       "      <th>train_roc_auc_ovo</th>\n",
       "    </tr>\n",
       "  </thead>\n",
       "  <tbody>\n",
       "    <tr>\n",
       "      <th>Dummy</th>\n",
       "      <td>0.008 (+/- 0.008)</td>\n",
       "      <td>0.026 (+/- 0.006)</td>\n",
       "      <td>0.333 (+/- 0.013)</td>\n",
       "      <td>0.333 (+/- 0.004)</td>\n",
       "      <td>0.193 (+/- 0.011)</td>\n",
       "      <td>0.200 (+/- 0.005)</td>\n",
       "      <td>0.496 (+/- 0.007)</td>\n",
       "      <td>0.501 (+/- 0.003)</td>\n",
       "      <td>0.496 (+/- 0.007)</td>\n",
       "      <td>0.500 (+/- 0.003)</td>\n",
       "    </tr>\n",
       "    <tr>\n",
       "      <th>SVC</th>\n",
       "      <td>2.883 (+/- 0.048)</td>\n",
       "      <td>0.182 (+/- 0.012)</td>\n",
       "      <td>0.532 (+/- 0.017)</td>\n",
       "      <td>0.539 (+/- 0.004)</td>\n",
       "      <td>0.241 (+/- 0.008)</td>\n",
       "      <td>0.244 (+/- 0.002)</td>\n",
       "      <td>0.746 (+/- 0.011)</td>\n",
       "      <td>0.755 (+/- 0.009)</td>\n",
       "      <td>0.730 (+/- 0.012)</td>\n",
       "      <td>0.738 (+/- 0.010)</td>\n",
       "    </tr>\n",
       "    <tr>\n",
       "      <th>Logistic Regression</th>\n",
       "      <td>0.196 (+/- 0.023)</td>\n",
       "      <td>0.024 (+/- 0.002)</td>\n",
       "      <td>0.546 (+/- 0.014)</td>\n",
       "      <td>0.550 (+/- 0.004)</td>\n",
       "      <td>0.325 (+/- 0.012)</td>\n",
       "      <td>0.330 (+/- 0.005)</td>\n",
       "      <td>0.764 (+/- 0.016)</td>\n",
       "      <td>0.778 (+/- 0.003)</td>\n",
       "      <td>0.759 (+/- 0.014)</td>\n",
       "      <td>0.772 (+/- 0.003)</td>\n",
       "    </tr>\n",
       "    <tr>\n",
       "      <th>Random Forest</th>\n",
       "      <td>0.508 (+/- 0.007)</td>\n",
       "      <td>0.065 (+/- 0.003)</td>\n",
       "      <td>0.652 (+/- 0.012)</td>\n",
       "      <td>1.000 (+/- 0.000)</td>\n",
       "      <td>0.501 (+/- 0.025)</td>\n",
       "      <td>1.000 (+/- 0.000)</td>\n",
       "      <td>0.852 (+/- 0.003)</td>\n",
       "      <td>1.000 (+/- 0.000)</td>\n",
       "      <td>0.847 (+/- 0.003)</td>\n",
       "      <td>1.000 (+/- 0.000)</td>\n",
       "    </tr>\n",
       "  </tbody>\n",
       "</table>\n",
       "</div>"
      ],
      "text/plain": [
       "                              fit_time         score_time      test_accuracy  \\\n",
       "Dummy                0.008 (+/- 0.008)  0.026 (+/- 0.006)  0.333 (+/- 0.013)   \n",
       "SVC                  2.883 (+/- 0.048)  0.182 (+/- 0.012)  0.532 (+/- 0.017)   \n",
       "Logistic Regression  0.196 (+/- 0.023)  0.024 (+/- 0.002)  0.546 (+/- 0.014)   \n",
       "Random Forest        0.508 (+/- 0.007)  0.065 (+/- 0.003)  0.652 (+/- 0.012)   \n",
       "\n",
       "                        train_accuracy      test_f1_macro     train_f1_macro  \\\n",
       "Dummy                0.333 (+/- 0.004)  0.193 (+/- 0.011)  0.200 (+/- 0.005)   \n",
       "SVC                  0.539 (+/- 0.004)  0.241 (+/- 0.008)  0.244 (+/- 0.002)   \n",
       "Logistic Regression  0.550 (+/- 0.004)  0.325 (+/- 0.012)  0.330 (+/- 0.005)   \n",
       "Random Forest        1.000 (+/- 0.000)  0.501 (+/- 0.025)  1.000 (+/- 0.000)   \n",
       "\n",
       "                      test_roc_auc_ovr  train_roc_auc_ovr   test_roc_auc_ovo  \\\n",
       "Dummy                0.496 (+/- 0.007)  0.501 (+/- 0.003)  0.496 (+/- 0.007)   \n",
       "SVC                  0.746 (+/- 0.011)  0.755 (+/- 0.009)  0.730 (+/- 0.012)   \n",
       "Logistic Regression  0.764 (+/- 0.016)  0.778 (+/- 0.003)  0.759 (+/- 0.014)   \n",
       "Random Forest        0.852 (+/- 0.003)  1.000 (+/- 0.000)  0.847 (+/- 0.003)   \n",
       "\n",
       "                     train_roc_auc_ovo  \n",
       "Dummy                0.500 (+/- 0.003)  \n",
       "SVC                  0.738 (+/- 0.010)  \n",
       "Logistic Regression  0.772 (+/- 0.003)  \n",
       "Random Forest        1.000 (+/- 0.000)  "
      ]
     },
     "execution_count": 1,
     "metadata": {},
     "output_type": "execute_result"
    }
   ],
   "source": [
    "import pandas as pd\n",
    "pd.read_csv(\"../../results/cross_val_results.csv\", index_col = 0)"
   ]
  },
  {
   "cell_type": "markdown",
   "id": "adf92776-597f-49b6-a2d8-21045b614cea",
   "metadata": {},
   "source": [
    "To find the best parameters of the random forest model, we perform hyperparameter optimization on `n_estimators` and `max_depth` in the random forest model. The optimal hyperparameter results are shown in the **_Table. 2_**. We observed that the optimal `n_estimators` was 4641 and the max_depth was 26. During the hyperparameter optimization, we used `roc_auc_ovr` as our scoring metrics. The validation score for the optimized model is 0.867. Our model performs acceptable, and the test score for the optimized model is 0.685."
   ]
  },
  {
   "cell_type": "markdown",
   "id": "51a209f8-850c-4cfe-b8dc-5df620643b10",
   "metadata": {},
   "source": [
    "**_Table. 2_** The best ROC-AUC-OVR cross-validation score together with the hyperparameter combination yielding the it, and the test score of this tuned random forest model on test examples."
   ]
  },
  {
   "cell_type": "code",
   "execution_count": 2,
   "id": "49e44a8f-09aa-4f4b-85cf-92327536f5dc",
   "metadata": {
    "tags": [
     "hide-input"
    ]
   },
   "outputs": [
    {
     "data": {
      "text/html": [
       "<div>\n",
       "<style scoped>\n",
       "    .dataframe tbody tr th:only-of-type {\n",
       "        vertical-align: middle;\n",
       "    }\n",
       "\n",
       "    .dataframe tbody tr th {\n",
       "        vertical-align: top;\n",
       "    }\n",
       "\n",
       "    .dataframe thead th {\n",
       "        text-align: right;\n",
       "    }\n",
       "</style>\n",
       "<table border=\"1\" class=\"dataframe\">\n",
       "  <thead>\n",
       "    <tr style=\"text-align: right;\">\n",
       "      <th></th>\n",
       "      <th>Random Forest Best n_estimators</th>\n",
       "      <th>Random Forest Best max_depth</th>\n",
       "      <th>Random Forest Best Score</th>\n",
       "      <th>Random Forest Roc_Auc Test Score</th>\n",
       "    </tr>\n",
       "  </thead>\n",
       "  <tbody>\n",
       "    <tr>\n",
       "      <th>0</th>\n",
       "      <td>4641</td>\n",
       "      <td>26</td>\n",
       "      <td>0.867</td>\n",
       "      <td>0.685</td>\n",
       "    </tr>\n",
       "  </tbody>\n",
       "</table>\n",
       "</div>"
      ],
      "text/plain": [
       "   Random Forest Best n_estimators  Random Forest Best max_depth  \\\n",
       "0                             4641                            26   \n",
       "\n",
       "   Random Forest Best Score  Random Forest Roc_Auc Test Score  \n",
       "0                     0.867                             0.685  "
      ]
     },
     "execution_count": 2,
     "metadata": {},
     "output_type": "execute_result"
    }
   ],
   "source": [
    "pd.read_csv(\"../../results/random_forest_results.csv\", index_col = 0).round(3)"
   ]
  },
  {
   "cell_type": "markdown",
   "id": "d2d4883f-8835-4a51-9c16-9b72f63e04d9",
   "metadata": {},
   "source": [
    "In addition, we plotted the confusion matrix of model performance on test data to get insights of how our model performed. As seen in **_Fig. 2_**, our model was mostly confused among the quality classes of 5, 6 and 7. This is probably because the features do not have well separated distributions with respect to these classes. This is in line with what we observed in the preliminary exploratory data analysis. Although the model did not perform great on this classification task, our main task does not include any sensitive prediction. Therefore, we are relatively confident to share the results of our model."
   ]
  },
  {
   "cell_type": "markdown",
   "id": "ca45bdf1-2b5c-4c2d-9dcc-ddc7ea44dc0f",
   "metadata": {},
   "source": [
    "```{figure} ../../results/test_cm.png\n",
    "\n",
    "\n",
    "Confusion matrix on test data.\n",
    "```"
   ]
  },
  {
   "cell_type": "markdown",
   "id": "e31323be-da67-4b3d-bbcd-b383389a94d7",
   "metadata": {},
   "source": [
    "Among all the features that our data set had, alcohol, density and volatile acidity were the top 3 important features (see **_Table. 3_**). On the other hand, fixed acidity, type-white and type-red were the least important features. This result is also consistent with our initial exploratory data analysis. The features alcohol, density and volatile acidity were among the most important features that we observed during exploratory data analysis."
   ]
  },
  {
   "cell_type": "markdown",
   "id": "7c8c92a5-0e3a-4203-8035-72600d073e2e",
   "metadata": {},
   "source": [
    "**_Table. 3_** The feature importances of the optimized random forest model."
   ]
  },
  {
   "cell_type": "code",
   "execution_count": 3,
   "id": "aa6b91d9-4be3-4210-b456-687e811c7463",
   "metadata": {
    "tags": [
     "hide-input"
    ]
   },
   "outputs": [
    {
     "data": {
      "text/html": [
       "<div>\n",
       "<style scoped>\n",
       "    .dataframe tbody tr th:only-of-type {\n",
       "        vertical-align: middle;\n",
       "    }\n",
       "\n",
       "    .dataframe tbody tr th {\n",
       "        vertical-align: top;\n",
       "    }\n",
       "\n",
       "    .dataframe thead th {\n",
       "        text-align: right;\n",
       "    }\n",
       "</style>\n",
       "<table border=\"1\" class=\"dataframe\">\n",
       "  <thead>\n",
       "    <tr style=\"text-align: right;\">\n",
       "      <th></th>\n",
       "      <th>Feature Importances</th>\n",
       "    </tr>\n",
       "  </thead>\n",
       "  <tbody>\n",
       "    <tr>\n",
       "      <th>alcohol</th>\n",
       "      <td>0.116</td>\n",
       "    </tr>\n",
       "    <tr>\n",
       "      <th>density</th>\n",
       "      <td>0.094</td>\n",
       "    </tr>\n",
       "    <tr>\n",
       "      <th>volatile acidity</th>\n",
       "      <td>0.091</td>\n",
       "    </tr>\n",
       "    <tr>\n",
       "      <th>total sulfur dioxide</th>\n",
       "      <td>0.082</td>\n",
       "    </tr>\n",
       "    <tr>\n",
       "      <th>chlorides</th>\n",
       "      <td>0.079</td>\n",
       "    </tr>\n",
       "    <tr>\n",
       "      <th>free sulfur dioxide</th>\n",
       "      <td>0.079</td>\n",
       "    </tr>\n",
       "    <tr>\n",
       "      <th>residual sugar</th>\n",
       "      <td>0.077</td>\n",
       "    </tr>\n",
       "    <tr>\n",
       "      <th>sulphates</th>\n",
       "      <td>0.076</td>\n",
       "    </tr>\n",
       "    <tr>\n",
       "      <th>pH</th>\n",
       "      <td>0.073</td>\n",
       "    </tr>\n",
       "    <tr>\n",
       "      <th>citric acid</th>\n",
       "      <td>0.071</td>\n",
       "    </tr>\n",
       "    <tr>\n",
       "      <th>fixed acidity</th>\n",
       "      <td>0.067</td>\n",
       "    </tr>\n",
       "    <tr>\n",
       "      <th>type_white</th>\n",
       "      <td>0.003</td>\n",
       "    </tr>\n",
       "    <tr>\n",
       "      <th>type_red</th>\n",
       "      <td>0.003</td>\n",
       "    </tr>\n",
       "  </tbody>\n",
       "</table>\n",
       "</div>"
      ],
      "text/plain": [
       "                      Feature Importances\n",
       "alcohol                             0.116\n",
       "density                             0.094\n",
       "volatile acidity                    0.091\n",
       "total sulfur dioxide                0.082\n",
       "chlorides                           0.079\n",
       "free sulfur dioxide                 0.079\n",
       "residual sugar                      0.077\n",
       "sulphates                           0.076\n",
       "pH                                  0.073\n",
       "citric acid                         0.071\n",
       "fixed acidity                       0.067\n",
       "type_white                          0.003\n",
       "type_red                            0.003"
      ]
     },
     "execution_count": 3,
     "metadata": {},
     "output_type": "execute_result"
    }
   ],
   "source": [
    "pd.read_csv(\"../../results/feature_importances.csv\", index_col = 0).round(3)"
   ]
  },
  {
   "cell_type": "markdown",
   "id": "8500f2f7-a695-44eb-9cf3-b2105f0c053a",
   "metadata": {},
   "source": [
    "Furthermore, to improve this model in future, we suggest to gather more wine samples from lower quality class and higher quality class to fix the severe class imbalance issue in the dataset so that it could be used to classify the wine qualities properly in the real world. Also, we could carry out feature engineering like adding polynomial features to our dataset or finding new features, and perform feature elimination to remove unimportant features.\n",
    "\n",
    "In conclusion, we used the random forest model which has feature interaction and gives better cross validation scores than the other two models we tried. However, due to the presence of a almost $20\\%$ gap between the cross-validation score and the test score, whether this model will generalize well to real-world unseen data remains a doubt."
   ]
  },
  {
   "cell_type": "markdown",
   "id": "51d105bb-1e5d-4c3c-98e5-a0e4b2148701",
   "metadata": {},
   "source": [
    "# Bibliography\n",
    "\n",
    "```{bibliography}\n",
    "```"
   ]
  }
 ],
 "metadata": {
  "kernelspec": {
   "display_name": "Python 3 (ipykernel)",
   "language": "python",
   "name": "python3"
  },
  "language_info": {
   "codemirror_mode": {
    "name": "ipython",
    "version": 3
   },
   "file_extension": ".py",
   "mimetype": "text/x-python",
   "name": "python",
   "nbconvert_exporter": "python",
   "pygments_lexer": "ipython3",
   "version": "3.9.5"
  }
 },
 "nbformat": 4,
 "nbformat_minor": 5
}
