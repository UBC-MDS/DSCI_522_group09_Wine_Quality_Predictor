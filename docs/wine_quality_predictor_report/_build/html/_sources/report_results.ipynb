{
 "cells": [
  {
   "cell_type": "markdown",
   "id": "4da52cc7-d6ad-4b36-915d-10f2c4516f32",
   "metadata": {
    "tags": []
   },
   "source": [
    "# Results & Discussion"
   ]
  },
  {
   "cell_type": "markdown",
   "id": "a83919a8-acfc-4b6c-92d9-66494c30c8f6",
   "metadata": {},
   "source": [
    "In order to classify the wine qualities, we chose to use three different models, including support vector machine with linear kernal, logistic regression, and random forest. We carried out 5-fold cross validation on all three models to find the best performing model based on the cross validation scores. During the EDA stage of the project, we observed class imbalance in our data set (**_Fig. 1_**). Therefore, we decided to use several scoring metrics such as f1 score, Receiver Operating Characteristic - One versus Rest - Area under the curve (ROC-AUC-OVR), and Receiver Operating Characteristic - One versus One - Area under the curve (ROC-AUC-OVO). "
   ]
  },
  {
   "cell_type": "markdown",
   "id": "90f37830-d04a-4a13-b173-36dcf9b3e6a0",
   "metadata": {
    "tags": []
   },
   "source": [
    "```{figure} ../../results/figure_1_class_imbalance.png\n",
    "\n",
    "\n",
    "Class imbalance in original data.\n",
    "```"
   ]
  },
  {
   "cell_type": "markdown",
   "id": "1b529828-4e97-49c8-9f14-b14945b99471",
   "metadata": {},
   "source": [
    "Based on the cross validation results shown in **_Table. 1_**, the random forest model performed the best across three models. Therefore, the random forest model was selected for downstream hyperparamater tuning."
   ]
  },
  {
   "cell_type": "markdown",
   "id": "97f613af-717c-4e88-9325-c97aa572598b",
   "metadata": {},
   "source": [
    "**_Table. 1_** Summary on f1 macro scores, ROC AUC (OVR) and ROC AUC (OVO) of dummy classifier, SVC, logistic regression, and random forest with default hyperparameters."
   ]
  },
  {
   "cell_type": "code",
   "execution_count": 1,
   "id": "719a66aa-2acd-4311-b0f0-40c79d804bf7",
   "metadata": {
    "tags": [
     "hide-input"
    ]
   },
   "outputs": [
    {
     "data": {
      "text/html": [
       "<div>\n",
       "<style scoped>\n",
       "    .dataframe tbody tr th:only-of-type {\n",
       "        vertical-align: middle;\n",
       "    }\n",
       "\n",
       "    .dataframe tbody tr th {\n",
       "        vertical-align: top;\n",
       "    }\n",
       "\n",
       "    .dataframe thead th {\n",
       "        text-align: right;\n",
       "    }\n",
       "</style>\n",
       "<table border=\"1\" class=\"dataframe\">\n",
       "  <thead>\n",
       "    <tr style=\"text-align: right;\">\n",
       "      <th></th>\n",
       "      <th>fit_time</th>\n",
       "      <th>score_time</th>\n",
       "      <th>test_accuracy</th>\n",
       "      <th>train_accuracy</th>\n",
       "      <th>test_f1_macro</th>\n",
       "      <th>train_f1_macro</th>\n",
       "      <th>test_roc_auc_ovr</th>\n",
       "      <th>train_roc_auc_ovr</th>\n",
       "      <th>test_roc_auc_ovo</th>\n",
       "      <th>train_roc_auc_ovo</th>\n",
       "    </tr>\n",
       "  </thead>\n",
       "  <tbody>\n",
       "    <tr>\n",
       "      <th>Dummy</th>\n",
       "      <td>0.008 (+/- 0.008)</td>\n",
       "      <td>0.026 (+/- 0.006)</td>\n",
       "      <td>0.333 (+/- 0.013)</td>\n",
       "      <td>0.333 (+/- 0.004)</td>\n",
       "      <td>0.193 (+/- 0.011)</td>\n",
       "      <td>0.200 (+/- 0.005)</td>\n",
       "      <td>0.496 (+/- 0.007)</td>\n",
       "      <td>0.501 (+/- 0.003)</td>\n",
       "      <td>0.496 (+/- 0.007)</td>\n",
       "      <td>0.500 (+/- 0.003)</td>\n",
       "    </tr>\n",
       "    <tr>\n",
       "      <th>SVC</th>\n",
       "      <td>2.883 (+/- 0.048)</td>\n",
       "      <td>0.182 (+/- 0.012)</td>\n",
       "      <td>0.532 (+/- 0.017)</td>\n",
       "      <td>0.539 (+/- 0.004)</td>\n",
       "      <td>0.241 (+/- 0.008)</td>\n",
       "      <td>0.244 (+/- 0.002)</td>\n",
       "      <td>0.746 (+/- 0.011)</td>\n",
       "      <td>0.755 (+/- 0.009)</td>\n",
       "      <td>0.730 (+/- 0.012)</td>\n",
       "      <td>0.738 (+/- 0.010)</td>\n",
       "    </tr>\n",
       "    <tr>\n",
       "      <th>Logistic Regression</th>\n",
       "      <td>0.196 (+/- 0.023)</td>\n",
       "      <td>0.024 (+/- 0.002)</td>\n",
       "      <td>0.546 (+/- 0.014)</td>\n",
       "      <td>0.550 (+/- 0.004)</td>\n",
       "      <td>0.325 (+/- 0.012)</td>\n",
       "      <td>0.330 (+/- 0.005)</td>\n",
       "      <td>0.764 (+/- 0.016)</td>\n",
       "      <td>0.778 (+/- 0.003)</td>\n",
       "      <td>0.759 (+/- 0.014)</td>\n",
       "      <td>0.772 (+/- 0.003)</td>\n",
       "    </tr>\n",
       "    <tr>\n",
       "      <th>Random Forest</th>\n",
       "      <td>0.508 (+/- 0.007)</td>\n",
       "      <td>0.065 (+/- 0.003)</td>\n",
       "      <td>0.652 (+/- 0.012)</td>\n",
       "      <td>1.000 (+/- 0.000)</td>\n",
       "      <td>0.501 (+/- 0.025)</td>\n",
       "      <td>1.000 (+/- 0.000)</td>\n",
       "      <td>0.852 (+/- 0.003)</td>\n",
       "      <td>1.000 (+/- 0.000)</td>\n",
       "      <td>0.847 (+/- 0.003)</td>\n",
       "      <td>1.000 (+/- 0.000)</td>\n",
       "    </tr>\n",
       "  </tbody>\n",
       "</table>\n",
       "</div>"
      ],
      "text/plain": [
       "                              fit_time         score_time      test_accuracy  \\\n",
       "Dummy                0.008 (+/- 0.008)  0.026 (+/- 0.006)  0.333 (+/- 0.013)   \n",
       "SVC                  2.883 (+/- 0.048)  0.182 (+/- 0.012)  0.532 (+/- 0.017)   \n",
       "Logistic Regression  0.196 (+/- 0.023)  0.024 (+/- 0.002)  0.546 (+/- 0.014)   \n",
       "Random Forest        0.508 (+/- 0.007)  0.065 (+/- 0.003)  0.652 (+/- 0.012)   \n",
       "\n",
       "                        train_accuracy      test_f1_macro     train_f1_macro  \\\n",
       "Dummy                0.333 (+/- 0.004)  0.193 (+/- 0.011)  0.200 (+/- 0.005)   \n",
       "SVC                  0.539 (+/- 0.004)  0.241 (+/- 0.008)  0.244 (+/- 0.002)   \n",
       "Logistic Regression  0.550 (+/- 0.004)  0.325 (+/- 0.012)  0.330 (+/- 0.005)   \n",
       "Random Forest        1.000 (+/- 0.000)  0.501 (+/- 0.025)  1.000 (+/- 0.000)   \n",
       "\n",
       "                      test_roc_auc_ovr  train_roc_auc_ovr   test_roc_auc_ovo  \\\n",
       "Dummy                0.496 (+/- 0.007)  0.501 (+/- 0.003)  0.496 (+/- 0.007)   \n",
       "SVC                  0.746 (+/- 0.011)  0.755 (+/- 0.009)  0.730 (+/- 0.012)   \n",
       "Logistic Regression  0.764 (+/- 0.016)  0.778 (+/- 0.003)  0.759 (+/- 0.014)   \n",
       "Random Forest        0.852 (+/- 0.003)  1.000 (+/- 0.000)  0.847 (+/- 0.003)   \n",
       "\n",
       "                     train_roc_auc_ovo  \n",
       "Dummy                0.500 (+/- 0.003)  \n",
       "SVC                  0.738 (+/- 0.010)  \n",
       "Logistic Regression  0.772 (+/- 0.003)  \n",
       "Random Forest        1.000 (+/- 0.000)  "
      ]
     },
     "execution_count": 1,
     "metadata": {},
     "output_type": "execute_result"
    }
   ],
   "source": [
    "import pandas as pd\n",
    "pd.read_csv(\"../../results/cross_val_results.csv\", index_col = 0)"
   ]
  },
  {
   "cell_type": "markdown",
   "id": "b43a0e0c-95b8-4148-86a3-5d7f9a0aee83",
   "metadata": {},
   "source": [
    "To find the best parameters of the random forest model, we perform hyperparameter optimization on `n_estimators` and `max_depth` in the random forest model. The optimal hyperparameter results are shown in the **_Table. 2_**. We observed that the optimal `n_estimators` was 4641 and the max_depth was 26. During the hyperparameter optimization, we used `roc_auc_ovr` as our scoring metrics. The validation score for the optimized model is 0.867. Our model performs acceptable, and the test score for the optimized model is 0.685."
   ]
  },
  {
   "cell_type": "markdown",
   "id": "67363bcf-f540-43dc-86e7-b17980bb4eec",
   "metadata": {},
   "source": [
    "**_Table. 2_** The best ROC-AUC-OVR cross-validation score together with the hyperparameter combination yielding the it, and the test score of this tuned random forest model on test examples."
   ]
  },
  {
   "cell_type": "code",
   "execution_count": 2,
   "id": "390ac176-d1dc-4195-952e-c0fb42102281",
   "metadata": {
    "tags": [
     "hide-input"
    ]
   },
   "outputs": [
    {
     "data": {
      "text/html": [
       "<div>\n",
       "<style scoped>\n",
       "    .dataframe tbody tr th:only-of-type {\n",
       "        vertical-align: middle;\n",
       "    }\n",
       "\n",
       "    .dataframe tbody tr th {\n",
       "        vertical-align: top;\n",
       "    }\n",
       "\n",
       "    .dataframe thead th {\n",
       "        text-align: right;\n",
       "    }\n",
       "</style>\n",
       "<table border=\"1\" class=\"dataframe\">\n",
       "  <thead>\n",
       "    <tr style=\"text-align: right;\">\n",
       "      <th></th>\n",
       "      <th>Random Forest Best n_estimators</th>\n",
       "      <th>Random Forest Best max_depth</th>\n",
       "      <th>Random Forest Best Score</th>\n",
       "      <th>Random Forest Roc_Auc Test Score</th>\n",
       "    </tr>\n",
       "  </thead>\n",
       "  <tbody>\n",
       "    <tr>\n",
       "      <th>0</th>\n",
       "      <td>4641</td>\n",
       "      <td>26</td>\n",
       "      <td>0.867</td>\n",
       "      <td>0.685</td>\n",
       "    </tr>\n",
       "  </tbody>\n",
       "</table>\n",
       "</div>"
      ],
      "text/plain": [
       "   Random Forest Best n_estimators  Random Forest Best max_depth  \\\n",
       "0                             4641                            26   \n",
       "\n",
       "   Random Forest Best Score  Random Forest Roc_Auc Test Score  \n",
       "0                     0.867                             0.685  "
      ]
     },
     "execution_count": 2,
     "metadata": {},
     "output_type": "execute_result"
    }
   ],
   "source": [
    "pd.read_csv(\"../../results/random_forest_results.csv\", index_col = 0).round(3)"
   ]
  },
  {
   "cell_type": "markdown",
   "id": "c025fea6-4e25-4935-89ac-7c68af026402",
   "metadata": {},
   "source": [
    "In addition, we plotted the confusion matrix of model performance on test data to get insights of how our model performed. As seen in **_Fig. 2_**, our model was mostly confused among the quality classes of 5, 6 and 7. This is probably because the features do not have well separated distributions with respect to these classes. This is in line with what we observed in the preliminary exploratory data analysis. Although the model did not perform great on this classification task, our main task does not include any sensitive prediction. Therefore, we are relatively confident to share the results of our model."
   ]
  },
  {
   "cell_type": "markdown",
   "id": "7ff25005-7d70-4921-9b3b-a79b80435b54",
   "metadata": {},
   "source": [
    "```{figure} ../../results/test_cm.png\n",
    "\n",
    "\n",
    "Confusion matrix on test data.\n",
    "```"
   ]
  },
  {
   "cell_type": "markdown",
   "id": "d024a664-ec72-4a21-8432-fa30abf44866",
   "metadata": {},
   "source": [
    "Among all the features that our data set had, alcohol, density and volatile acidity were the top 3 important features (see **_Table. 3_**). On the other hand, fixed acidity, type-white and type-red were the least important features. This result is also consistent with our initial exploratory data analysis. The features alcohol, density and volatile acidity were among the most important features that we observed during exploratory data analysis."
   ]
  },
  {
   "cell_type": "markdown",
   "id": "5c8f91c0-f63f-43e1-bce8-7db7f0593c74",
   "metadata": {},
   "source": [
    "**_Table. 3_** The feature importances of the optimized random forest model."
   ]
  },
  {
   "cell_type": "code",
   "execution_count": 3,
   "id": "e8466de1-eb5f-45c5-852e-b2c613772f30",
   "metadata": {
    "tags": [
     "hide-input"
    ]
   },
   "outputs": [
    {
     "data": {
      "text/html": [
       "<div>\n",
       "<style scoped>\n",
       "    .dataframe tbody tr th:only-of-type {\n",
       "        vertical-align: middle;\n",
       "    }\n",
       "\n",
       "    .dataframe tbody tr th {\n",
       "        vertical-align: top;\n",
       "    }\n",
       "\n",
       "    .dataframe thead th {\n",
       "        text-align: right;\n",
       "    }\n",
       "</style>\n",
       "<table border=\"1\" class=\"dataframe\">\n",
       "  <thead>\n",
       "    <tr style=\"text-align: right;\">\n",
       "      <th></th>\n",
       "      <th>Feature Importances</th>\n",
       "    </tr>\n",
       "  </thead>\n",
       "  <tbody>\n",
       "    <tr>\n",
       "      <th>alcohol</th>\n",
       "      <td>0.116</td>\n",
       "    </tr>\n",
       "    <tr>\n",
       "      <th>density</th>\n",
       "      <td>0.094</td>\n",
       "    </tr>\n",
       "    <tr>\n",
       "      <th>volatile acidity</th>\n",
       "      <td>0.091</td>\n",
       "    </tr>\n",
       "    <tr>\n",
       "      <th>total sulfur dioxide</th>\n",
       "      <td>0.082</td>\n",
       "    </tr>\n",
       "    <tr>\n",
       "      <th>chlorides</th>\n",
       "      <td>0.079</td>\n",
       "    </tr>\n",
       "    <tr>\n",
       "      <th>free sulfur dioxide</th>\n",
       "      <td>0.079</td>\n",
       "    </tr>\n",
       "    <tr>\n",
       "      <th>residual sugar</th>\n",
       "      <td>0.077</td>\n",
       "    </tr>\n",
       "    <tr>\n",
       "      <th>sulphates</th>\n",
       "      <td>0.076</td>\n",
       "    </tr>\n",
       "    <tr>\n",
       "      <th>pH</th>\n",
       "      <td>0.073</td>\n",
       "    </tr>\n",
       "    <tr>\n",
       "      <th>citric acid</th>\n",
       "      <td>0.071</td>\n",
       "    </tr>\n",
       "    <tr>\n",
       "      <th>fixed acidity</th>\n",
       "      <td>0.067</td>\n",
       "    </tr>\n",
       "    <tr>\n",
       "      <th>type_white</th>\n",
       "      <td>0.003</td>\n",
       "    </tr>\n",
       "    <tr>\n",
       "      <th>type_red</th>\n",
       "      <td>0.003</td>\n",
       "    </tr>\n",
       "  </tbody>\n",
       "</table>\n",
       "</div>"
      ],
      "text/plain": [
       "                      Feature Importances\n",
       "alcohol                             0.116\n",
       "density                             0.094\n",
       "volatile acidity                    0.091\n",
       "total sulfur dioxide                0.082\n",
       "chlorides                           0.079\n",
       "free sulfur dioxide                 0.079\n",
       "residual sugar                      0.077\n",
       "sulphates                           0.076\n",
       "pH                                  0.073\n",
       "citric acid                         0.071\n",
       "fixed acidity                       0.067\n",
       "type_white                          0.003\n",
       "type_red                            0.003"
      ]
     },
     "execution_count": 3,
     "metadata": {},
     "output_type": "execute_result"
    }
   ],
   "source": [
    "pd.read_csv(\"../../results/feature_importances.csv\", index_col = 0).round(3)"
   ]
  },
  {
   "cell_type": "markdown",
   "id": "2642eae9-7929-45bc-bcd2-ce4b90d6a215",
   "metadata": {},
   "source": [
    "Furthermore, to improve this model in future, we suggest to gather more wine samples from lower quality class and higher quality class to fix the severe class imbalance issue in the dataset so that it could be used to classify the wine qualities properly in the real world. Also, we could carry out feature engineering like adding polynomial features to our dataset or finding new features, and perform feature elimination to remove unimportant features.\n",
    "\n",
    "In conclusion, we used the random forest model which has feature interaction and gives better cross validation scores than the other two models we tried. However, due to the presence of a almost $20\\%$ gap between the cross-validation score and the test score, whether this model will generalize well to real-world unseen data remains a doubt."
   ]
  }
 ],
 "metadata": {
  "kernelspec": {
   "display_name": "Python 3 (ipykernel)",
   "language": "python",
   "name": "python3"
  },
  "language_info": {
   "codemirror_mode": {
    "name": "ipython",
    "version": 3
   },
   "file_extension": ".py",
   "mimetype": "text/x-python",
   "name": "python",
   "nbconvert_exporter": "python",
   "pygments_lexer": "ipython3",
   "version": "3.9.5"
  }
 },
 "nbformat": 4,
 "nbformat_minor": 5
}
