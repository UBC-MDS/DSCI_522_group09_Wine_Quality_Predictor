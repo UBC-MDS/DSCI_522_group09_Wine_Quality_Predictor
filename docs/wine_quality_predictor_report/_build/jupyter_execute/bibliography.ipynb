{
 "cells": [
  {
   "cell_type": "markdown",
   "id": "bf1af982-ac16-470d-b6e3-a99345a61275",
   "metadata": {},
   "source": [
    "# Bibliography\n",
    "\n",
    "```{bibliography}\n",
    "```"
   ]
  }
 ],
 "metadata": {
  "kernelspec": {
   "display_name": "Python 3 (ipykernel)",
   "language": "python",
   "name": "python3"
  },
  "language_info": {
   "codemirror_mode": {
    "name": "ipython",
    "version": 3
   },
   "file_extension": ".py",
   "mimetype": "text/x-python",
   "name": "python",
   "nbconvert_exporter": "python",
   "pygments_lexer": "ipython3",
   "version": "3.10.0"
  }
 },
 "nbformat": 4,
 "nbformat_minor": 5
}